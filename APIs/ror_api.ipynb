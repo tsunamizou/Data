{
  "nbformat": 4,
  "nbformat_minor": 0,
  "metadata": {
    "colab": {
      "provenance": [],
      "authorship_tag": "ABX9TyMfx5QPPg209zMw7k9N7V2M",
      "include_colab_link": true
    },
    "kernelspec": {
      "name": "python3",
      "display_name": "Python 3"
    },
    "language_info": {
      "name": "python"
    }
  },
  "cells": [
    {
      "cell_type": "markdown",
      "metadata": {
        "id": "view-in-github",
        "colab_type": "text"
      },
      "source": [
        "<a href=\"https://colab.research.google.com/github/tsunamizou/Data/blob/main/APIs/ror_api.ipynb\" target=\"_parent\"><img src=\"https://colab.research.google.com/assets/colab-badge.svg\" alt=\"Open In Colab\"/></a>"
      ]
    },
    {
      "cell_type": "code",
      "execution_count": null,
      "metadata": {
        "id": "MWZajcOHWS6D"
      },
      "outputs": [],
      "source": [
        "import requests\n",
        "import pandas as pd"
      ]
    },
    {
      "cell_type": "markdown",
      "source": [
        "This notebook uses the ror API to get the information of all China institutes"
      ],
      "metadata": {
        "id": "gdoeS3QMDJu0"
      }
    },
    {
      "cell_type": "code",
      "source": [
        "# testing with one page\n",
        "URL =  'https://api.ror.org/organizations?filter=country.country_name:China&page=2'\n",
        "results = requests.get(URL)"
      ],
      "metadata": {
        "id": "aQdvyB0NWZER"
      },
      "execution_count": null,
      "outputs": []
    },
    {
      "cell_type": "code",
      "source": [
        "# parsing the results returned in json format\n",
        "rors = results.json()['items']"
      ],
      "metadata": {
        "id": "P6ytPG9ZWyOT"
      },
      "execution_count": null,
      "outputs": []
    },
    {
      "cell_type": "code",
      "source": [
        "print(rors)"
      ],
      "metadata": {
        "colab": {
          "base_uri": "https://localhost:8080/"
        },
        "id": "FpnzzadYXLKh",
        "outputId": "475c42ee-46d4-44fd-eb1f-d96a8ec8ebda"
      },
      "execution_count": null,
      "outputs": [
        {
          "output_type": "stream",
          "name": "stdout",
          "text": [
            "[{'id': 'https://ror.org/045g15j06', 'name': 'Chevron (China)', 'email_address': None, 'ip_addresses': [], 'established': 1876, 'types': ['Company'], 'relationships': [{'label': 'Chevron (United States)', 'type': 'Parent', 'id': 'https://ror.org/02jfa8730'}], 'addresses': [{'lat': 22.3408, 'lng': 114.09019, 'state': None, 'state_code': None, 'city': 'Hong Kong', 'geonames_city': {'id': 1819729, 'city': 'Hong Kong', 'geonames_admin1': {'name': 'Central and Western', 'id': 7533598, 'ascii_name': 'Central and Western', 'code': 'HK.HCW'}, 'geonames_admin2': {'name': None, 'id': None, 'ascii_name': None, 'code': None}, 'license': {'attribution': 'Data from geonames.org under a CC-BY 3.0 license', 'license': 'http://creativecommons.org/licenses/by/3.0/'}, 'nuts_level1': {'name': None, 'code': None}, 'nuts_level2': {'name': None, 'code': None}, 'nuts_level3': {'name': None, 'code': None}}, 'postcode': None, 'primary': False, 'line': None, 'country_geonames_id': 1814991}], 'links': ['https://www.chevron.com/'], 'aliases': [], 'acronyms': [], 'status': 'active', 'wikipedia_url': 'https://en.wikipedia.org/wiki/Chevron_Corporation', 'labels': [{'label': '雪佛龍香港有限公司', 'iso639': 'zh'}], 'country': {'country_name': 'China', 'country_code': 'CN'}, 'external_ids': {'GRID': {'preferred': 'grid.510258.b', 'all': 'grid.510258.b'}}}, {'id': 'https://ror.org/01eqh1863', 'name': 'Yango University', 'email_address': None, 'ip_addresses': [], 'established': 2001, 'types': ['Education'], 'relationships': [], 'addresses': [{'lat': 26.00472, 'lng': 119.44978, 'state': None, 'state_code': None, 'city': 'Fuzhou', 'geonames_city': {'id': 1810821, 'city': 'Fuzhou', 'geonames_admin1': {'name': 'Fujian', 'id': 1811017, 'ascii_name': 'Fujian', 'code': 'CN.07'}, 'geonames_admin2': {'name': None, 'id': None, 'ascii_name': None, 'code': None}, 'license': {'attribution': 'Data from geonames.org under a CC-BY 3.0 license', 'license': 'http://creativecommons.org/licenses/by/3.0/'}, 'nuts_level1': {'name': None, 'code': None}, 'nuts_level2': {'name': None, 'code': None}, 'nuts_level3': {'name': None, 'code': None}}, 'postcode': None, 'primary': False, 'line': None, 'country_geonames_id': 1814991}], 'links': ['http://www.ygu.edu.cn/'], 'aliases': [], 'acronyms': [], 'status': 'active', 'wikipedia_url': '', 'labels': [{'label': '阳光学院', 'iso639': 'zh'}], 'country': {'country_name': 'China', 'country_code': 'CN'}, 'external_ids': {'ISNI': {'preferred': None, 'all': ['0000 0004 8343 6706']}, 'Wikidata': {'preferred': None, 'all': ['Q52146304']}, 'GRID': {'preferred': 'grid.510443.7', 'all': 'grid.510443.7'}}}, {'id': 'https://ror.org/04k3c1424', 'name': 'Hubei Provincial Museum', 'email_address': None, 'ip_addresses': [], 'established': 1953, 'types': ['Archive'], 'relationships': [], 'addresses': [{'lat': 30.563889, 'lng': 114.358889, 'state': None, 'state_code': None, 'city': 'Wuhan', 'geonames_city': {'id': 1791247, 'city': 'Wuhan', 'geonames_admin1': {'name': 'Hubei', 'id': 1806949, 'ascii_name': 'Hubei', 'code': 'CN.12'}, 'geonames_admin2': {'name': 'Wuhan Shi', 'id': 1791243, 'ascii_name': 'Wuhan Shi', 'code': 'CN.12.4201'}, 'license': {'attribution': 'Data from geonames.org under a CC-BY 3.0 license', 'license': 'http://creativecommons.org/licenses/by/3.0/'}, 'nuts_level1': {'name': None, 'code': None}, 'nuts_level2': {'name': None, 'code': None}, 'nuts_level3': {'name': None, 'code': None}}, 'postcode': None, 'primary': False, 'line': None, 'country_geonames_id': 1814991}], 'links': ['http://www.hbww.org/home/Index.aspx'], 'aliases': [], 'acronyms': [], 'status': 'active', 'wikipedia_url': 'https://en.wikipedia.org/wiki/Hubei_Provincial_Museum', 'labels': [{'label': '湖北省博物馆', 'iso639': 'zh'}], 'country': {'country_name': 'China', 'country_code': 'CN'}, 'external_ids': {'ISNI': {'preferred': None, 'all': ['0000 0001 2169 8119']}, 'Wikidata': {'preferred': None, 'all': ['Q4391403']}, 'GRID': {'preferred': 'grid.510518.8', 'all': 'grid.510518.8'}}}, {'id': 'https://ror.org/00k9exb07', 'name': 'Yashentech (China)', 'email_address': None, 'ip_addresses': [], 'established': 2004, 'types': ['Company'], 'relationships': [], 'addresses': [{'lat': 29.992875, 'lng': 120.447601, 'state': None, 'state_code': None, 'city': 'Shaoxing', 'geonames_city': {'id': 1795855, 'city': 'Shaoxing', 'geonames_admin1': {'name': 'Zhejiang', 'id': 1784764, 'ascii_name': 'Zhejiang', 'code': 'CN.02'}, 'geonames_admin2': {'name': None, 'id': None, 'ascii_name': None, 'code': None}, 'license': {'attribution': 'Data from geonames.org under a CC-BY 3.0 license', 'license': 'http://creativecommons.org/licenses/by/3.0/'}, 'nuts_level1': {'name': None, 'code': None}, 'nuts_level2': {'name': None, 'code': None}, 'nuts_level3': {'name': None, 'code': None}}, 'postcode': None, 'primary': False, 'line': None, 'country_geonames_id': 1814991}], 'links': ['http://yashentech.com/'], 'aliases': [], 'acronyms': [], 'status': 'active', 'wikipedia_url': '', 'labels': [{'label': '亚申科技', 'iso639': 'zh'}], 'country': {'country_name': 'China', 'country_code': 'CN'}, 'external_ids': {'Wikidata': {'preferred': None, 'all': ['Q77581843']}, 'GRID': {'preferred': 'grid.510741.6', 'all': 'grid.510741.6'}}}, {'id': 'https://ror.org/04v4gyq34', 'name': 'Yuyao Joywee Electrics (China)', 'email_address': None, 'ip_addresses': [], 'established': 2007, 'types': ['Company'], 'relationships': [], 'addresses': [{'lat': 30.012333, 'lng': 121.196042, 'state': None, 'state_code': None, 'city': 'Yuyao', 'geonames_city': {'id': 1785545, 'city': 'Yuyao', 'geonames_admin1': {'name': 'Zhejiang', 'id': 1784764, 'ascii_name': 'Zhejiang', 'code': 'CN.02'}, 'geonames_admin2': {'name': 'Ningbo Shi', 'id': 1799395, 'ascii_name': 'Ningbo Shi', 'code': 'CN.02.3302'}, 'license': {'attribution': 'Data from geonames.org under a CC-BY 3.0 license', 'license': 'http://creativecommons.org/licenses/by/3.0/'}, 'nuts_level1': {'name': None, 'code': None}, 'nuts_level2': {'name': None, 'code': None}, 'nuts_level3': {'name': None, 'code': None}}, 'postcode': None, 'primary': False, 'line': None, 'country_geonames_id': 1814991}], 'links': ['http://www.joywee.cn/'], 'aliases': ['Yuyao Jiaowei Electric'], 'acronyms': [], 'status': 'active', 'wikipedia_url': '', 'labels': [{'label': '\\u200d余姚市骄威电器', 'iso639': 'zh'}], 'country': {'country_name': 'China', 'country_code': 'CN'}, 'external_ids': {'Wikidata': {'preferred': None, 'all': ['Q90832966']}, 'GRID': {'preferred': 'grid.510743.4', 'all': 'grid.510743.4'}}}, {'id': 'https://ror.org/00fj5zw34', 'name': 'Hong Kong Institute of Steel Construction', 'email_address': None, 'ip_addresses': [], 'established': 2000, 'types': ['Nonprofit'], 'relationships': [], 'addresses': [{'lat': 22.376612, 'lng': 114.156498, 'state': None, 'state_code': None, 'city': 'Hong Kong', 'geonames_city': {'id': 1819729, 'city': 'Hong Kong', 'geonames_admin1': {'name': 'Central and Western', 'id': 7533598, 'ascii_name': 'Central and Western', 'code': 'HK.HCW'}, 'geonames_admin2': {'name': None, 'id': None, 'ascii_name': None, 'code': None}, 'license': {'attribution': 'Data from geonames.org under a CC-BY 3.0 license', 'license': 'http://creativecommons.org/licenses/by/3.0/'}, 'nuts_level1': {'name': None, 'code': None}, 'nuts_level2': {'name': None, 'code': None}, 'nuts_level3': {'name': None, 'code': None}}, 'postcode': None, 'primary': False, 'line': None, 'country_geonames_id': 1814991}], 'links': ['http://www.hkisc.org/'], 'aliases': ['香港鋼結構學會'], 'acronyms': ['HKISC'], 'status': 'active', 'wikipedia_url': '', 'labels': [], 'country': {'country_name': 'China', 'country_code': 'CN'}, 'external_ids': {'ISNI': {'preferred': None, 'all': ['0000 0004 8515 0517']}, 'Wikidata': {'preferred': None, 'all': ['Q7191107']}, 'GRID': {'preferred': 'grid.510876.d', 'all': 'grid.510876.d'}}}, {'id': 'https://ror.org/05f51je39', 'name': 'National Geological Archives of China', 'email_address': None, 'ip_addresses': [], 'established': 1952, 'types': ['Government'], 'relationships': [], 'addresses': [{'lat': 39.99231, 'lng': 116.3495, 'state': None, 'state_code': None, 'city': 'Beijing', 'geonames_city': {'id': 1816670, 'city': 'Beijing', 'geonames_admin1': {'name': 'Beijing', 'id': 2038349, 'ascii_name': 'Beijing', 'code': 'CN.22'}, 'geonames_admin2': {'name': None, 'id': None, 'ascii_name': None, 'code': None}, 'license': {'attribution': 'Data from geonames.org under a CC-BY 3.0 license', 'license': 'http://creativecommons.org/licenses/by/3.0/'}, 'nuts_level1': {'name': None, 'code': None}, 'nuts_level2': {'name': None, 'code': None}, 'nuts_level3': {'name': None, 'code': None}}, 'postcode': None, 'primary': False, 'line': None, 'country_geonames_id': 1814991}], 'links': ['http://www.ngac.cn/125cms/c/qggnew/index.htm'], 'aliases': [], 'acronyms': [], 'status': 'active', 'wikipedia_url': '', 'labels': [{'label': '全国地质资料馆', 'iso639': 'zh'}], 'country': {'country_name': 'China', 'country_code': 'CN'}, 'external_ids': {'GRID': {'preferred': 'grid.510898.d', 'all': 'grid.510898.d'}}}, {'id': 'https://ror.org/013bkjj52', 'name': 'Beijing Graphene Institute', 'email_address': None, 'ip_addresses': [], 'established': None, 'types': ['Facility'], 'relationships': [], 'addresses': [{'lat': 40.005177, 'lng': 116.33983, 'state': None, 'state_code': None, 'city': 'Beijing', 'geonames_city': {'id': 1816670, 'city': 'Beijing', 'geonames_admin1': {'name': 'Beijing', 'id': 2038349, 'ascii_name': 'Beijing', 'code': 'CN.22'}, 'geonames_admin2': {'name': None, 'id': None, 'ascii_name': None, 'code': None}, 'license': {'attribution': 'Data from geonames.org under a CC-BY 3.0 license', 'license': 'http://creativecommons.org/licenses/by/3.0/'}, 'nuts_level1': {'name': None, 'code': None}, 'nuts_level2': {'name': None, 'code': None}, 'nuts_level3': {'name': None, 'code': None}}, 'postcode': None, 'primary': False, 'line': None, 'country_geonames_id': 1814991}], 'links': ['http://bgi-graphene.com/eng'], 'aliases': [], 'acronyms': ['BGI'], 'status': 'active', 'wikipedia_url': '', 'labels': [{'label': '北京石墨烯研究院', 'iso639': 'zh'}], 'country': {'country_name': 'China', 'country_code': 'CN'}, 'external_ids': {'GRID': {'preferred': 'grid.510905.8', 'all': 'grid.510905.8'}}}, {'id': 'https://ror.org/033sm5e75', 'name': 'Chongqing 2D Materials Institute (China)', 'email_address': None, 'ip_addresses': [], 'established': None, 'types': ['Company'], 'relationships': [], 'addresses': [{'lat': 29.625121, 'lng': 106.305497, 'state': None, 'state_code': None, 'city': 'Chongqing', 'geonames_city': {'id': 1814906, 'city': 'Chongqing', 'geonames_admin1': {'name': 'Chongqing', 'id': 1814905, 'ascii_name': 'Chongqing', 'code': 'CN.33'}, 'geonames_admin2': {'name': None, 'id': None, 'ascii_name': None, 'code': None}, 'license': {'attribution': 'Data from geonames.org under a CC-BY 3.0 license', 'license': 'http://creativecommons.org/licenses/by/3.0/'}, 'nuts_level1': {'name': None, 'code': None}, 'nuts_level2': {'name': None, 'code': None}, 'nuts_level3': {'name': None, 'code': None}}, 'postcode': None, 'primary': False, 'line': None, 'country_geonames_id': 1814991}], 'links': ['http://www.c2dmi.com/'], 'aliases': [], 'acronyms': ['C2DMI'], 'status': 'active', 'wikipedia_url': '', 'labels': [], 'country': {'country_name': 'China', 'country_code': 'CN'}, 'external_ids': {'GRID': {'preferred': 'grid.510936.8', 'all': 'grid.510936.8'}}}, {'id': 'https://ror.org/00mc8r278', 'name': 'Lee & Man Chemical Company (China)', 'email_address': None, 'ip_addresses': [], 'established': 2006, 'types': ['Company'], 'relationships': [], 'addresses': [{'lat': 22.31179, 'lng': 114.22484, 'state': None, 'state_code': None, 'city': 'Hong Kong', 'geonames_city': {'id': 1819729, 'city': 'Hong Kong', 'geonames_admin1': {'name': 'Central and Western', 'id': 7533598, 'ascii_name': 'Central and Western', 'code': 'HK.HCW'}, 'geonames_admin2': {'name': None, 'id': None, 'ascii_name': None, 'code': None}, 'license': {'attribution': 'Data from geonames.org under a CC-BY 3.0 license', 'license': 'http://creativecommons.org/licenses/by/3.0/'}, 'nuts_level1': {'name': None, 'code': None}, 'nuts_level2': {'name': None, 'code': None}, 'nuts_level3': {'name': None, 'code': None}}, 'postcode': None, 'primary': False, 'line': None, 'country_geonames_id': 1814991}], 'links': ['http://www.leemanchemical.com/'], 'aliases': [], 'acronyms': [], 'status': 'active', 'wikipedia_url': '', 'labels': [{'label': '理文化工有限公司', 'iso639': 'zh'}], 'country': {'country_name': 'China', 'country_code': 'CN'}, 'external_ids': {'Wikidata': {'preferred': None, 'all': ['Q16923503']}, 'GRID': {'preferred': 'grid.510945.c', 'all': 'grid.510945.c'}}}, {'id': 'https://ror.org/020vtf184', 'name': 'Songshan Lake Materials Laboratory', 'email_address': None, 'ip_addresses': [], 'established': 2017, 'types': ['Government'], 'relationships': [{'label': 'Institute of High Energy Physics', 'type': 'Parent', 'id': 'https://ror.org/03v8tnc06'}, {'label': 'Institute of Physics', 'type': 'Parent', 'id': 'https://ror.org/05cvf7v30'}, {'label': 'South Bay Interdisciplinary Science Center', 'type': 'Child', 'id': 'https://ror.org/01276vm23'}], 'addresses': [{'lat': 22.887681, 'lng': 113.84431, 'state': None, 'state_code': None, 'city': 'Dongguan', 'geonames_city': {'id': 1812545, 'city': 'Dongguan', 'geonames_admin1': {'name': 'Guangdong', 'id': 1809935, 'ascii_name': 'Guangdong', 'code': 'CN.30'}, 'geonames_admin2': {'name': None, 'id': None, 'ascii_name': None, 'code': None}, 'license': {'attribution': 'Data from geonames.org under a CC-BY 3.0 license', 'license': 'http://creativecommons.org/licenses/by/3.0/'}, 'nuts_level1': {'name': None, 'code': None}, 'nuts_level2': {'name': None, 'code': None}, 'nuts_level3': {'name': None, 'code': None}}, 'postcode': None, 'primary': False, 'line': None, 'country_geonames_id': 1814991}], 'links': ['http://www.sslab.org.cn/'], 'aliases': [], 'acronyms': ['SLAB'], 'status': 'active', 'wikipedia_url': '', 'labels': [{'label': '松山湖材料实验室', 'iso639': 'zh'}], 'country': {'country_name': 'China', 'country_code': 'CN'}, 'external_ids': {'GRID': {'preferred': 'grid.511002.7', 'all': 'grid.511002.7'}}}, {'id': 'https://ror.org/04h7gmn81', 'name': 'OriginWater (China)', 'email_address': None, 'ip_addresses': [], 'established': 2001, 'types': ['Company'], 'relationships': [], 'addresses': [{'lat': 40.09516, 'lng': 116.26813, 'state': None, 'state_code': None, 'city': 'Beijing', 'geonames_city': {'id': 1816670, 'city': 'Beijing', 'geonames_admin1': {'name': 'Beijing', 'id': 2038349, 'ascii_name': 'Beijing', 'code': 'CN.22'}, 'geonames_admin2': {'name': None, 'id': None, 'ascii_name': None, 'code': None}, 'license': {'attribution': 'Data from geonames.org under a CC-BY 3.0 license', 'license': 'http://creativecommons.org/licenses/by/3.0/'}, 'nuts_level1': {'name': None, 'code': None}, 'nuts_level2': {'name': None, 'code': None}, 'nuts_level3': {'name': None, 'code': None}}, 'postcode': None, 'primary': False, 'line': None, 'country_geonames_id': 1814991}], 'links': ['http://www.originwater.com/'], 'aliases': ['Beijing OriginWater Technology'], 'acronyms': ['BOW'], 'status': 'active', 'wikipedia_url': '', 'labels': [{'label': '碧水源', 'iso639': 'zh'}], 'country': {'country_name': 'China', 'country_code': 'CN'}, 'external_ids': {'GRID': {'preferred': 'grid.511071.3', 'all': 'grid.511071.3'}}}, {'id': 'https://ror.org/043rwwa27', 'name': \"The First People's Hospital of Jiangxia District\", 'email_address': None, 'ip_addresses': [], 'established': 1958, 'types': ['Healthcare'], 'relationships': [], 'addresses': [{'lat': 30.3503, 'lng': 114.32896, 'state': None, 'state_code': None, 'city': 'Wuhan', 'geonames_city': {'id': 1791247, 'city': 'Wuhan', 'geonames_admin1': {'name': 'Hubei', 'id': 1806949, 'ascii_name': 'Hubei', 'code': 'CN.12'}, 'geonames_admin2': {'name': 'Wuhan Shi', 'id': 1791243, 'ascii_name': 'Wuhan Shi', 'code': 'CN.12.4201'}, 'license': {'attribution': 'Data from geonames.org under a CC-BY 3.0 license', 'license': 'http://creativecommons.org/licenses/by/3.0/'}, 'nuts_level1': {'name': None, 'code': None}, 'nuts_level2': {'name': None, 'code': None}, 'nuts_level3': {'name': None, 'code': None}}, 'postcode': None, 'primary': False, 'line': None, 'country_geonames_id': 1814991}], 'links': ['http://www.xhjnyy.com/'], 'aliases': [], 'acronyms': [], 'status': 'active', 'wikipedia_url': '', 'labels': [{'label': '江夏区第一人民医院', 'iso639': 'zh'}], 'country': {'country_name': 'China', 'country_code': 'CN'}, 'external_ids': {'GRID': {'preferred': 'grid.511167.5', 'all': 'grid.511167.5'}}}, {'id': 'https://ror.org/053nkmh39', 'name': 'Honghu Hospital of Traditional Chinese Medicine', 'email_address': None, 'ip_addresses': [], 'established': 1977, 'types': ['Healthcare'], 'relationships': [], 'addresses': [{'lat': 29.82043, 'lng': 113.46214, 'state': None, 'state_code': None, 'city': 'Jingzhou', 'geonames_city': {'id': 1805540, 'city': 'Jingzhou', 'geonames_admin1': {'name': 'Hubei', 'id': 1806949, 'ascii_name': 'Hubei', 'code': 'CN.12'}, 'geonames_admin2': {'name': None, 'id': None, 'ascii_name': None, 'code': None}, 'license': {'attribution': 'Data from geonames.org under a CC-BY 3.0 license', 'license': 'http://creativecommons.org/licenses/by/3.0/'}, 'nuts_level1': {'name': None, 'code': None}, 'nuts_level2': {'name': None, 'code': None}, 'nuts_level3': {'name': None, 'code': None}}, 'postcode': None, 'primary': False, 'line': None, 'country_geonames_id': 1814991}], 'links': ['http://www.fszxw.com/'], 'aliases': [], 'acronyms': [], 'status': 'active', 'wikipedia_url': '', 'labels': [{'label': '洪湖中医文化', 'iso639': 'zh'}], 'country': {'country_name': 'China', 'country_code': 'CN'}, 'external_ids': {'GRID': {'preferred': 'grid.511223.6', 'all': 'grid.511223.6'}}}, {'id': 'https://ror.org/03ksbpa13', 'name': 'Jiangsu Food and Pharmaceutical Science College', 'email_address': None, 'ip_addresses': [], 'established': None, 'types': ['Education'], 'relationships': [], 'addresses': [{'lat': 33.547188, 'lng': 119.047223, 'state': None, 'state_code': None, 'city': \"Huai'an\", 'geonames_city': {'id': 1797873, 'city': \"Huai'an\", 'geonames_admin1': {'name': 'Jiangsu', 'id': 1806260, 'ascii_name': 'Jiangsu', 'code': 'CN.04'}, 'geonames_admin2': {'name': None, 'id': None, 'ascii_name': None, 'code': None}, 'license': {'attribution': 'Data from geonames.org under a CC-BY 3.0 license', 'license': 'http://creativecommons.org/licenses/by/3.0/'}, 'nuts_level1': {'name': None, 'code': None}, 'nuts_level2': {'name': None, 'code': None}, 'nuts_level3': {'name': None, 'code': None}}, 'postcode': None, 'primary': False, 'line': None, 'country_geonames_id': 1814991}], 'links': ['https://www.jsfpc.edu.cn/'], 'aliases': [], 'acronyms': [], 'status': 'active', 'wikipedia_url': '', 'labels': [{'label': '江苏食品药品职业技术学院', 'iso639': 'zh'}], 'country': {'country_name': 'China', 'country_code': 'CN'}, 'external_ids': {'GRID': {'preferred': 'grid.511252.0', 'all': 'grid.511252.0'}}}, {'id': 'https://ror.org/048d94c63', 'name': 'National Engineering Research Center for Nanotechnology', 'email_address': None, 'ip_addresses': [], 'established': 2003, 'types': ['Facility'], 'relationships': [], 'addresses': [{'lat': 31.0177969, 'lng': 121.4598452, 'state': None, 'state_code': None, 'city': 'Shanghai', 'geonames_city': {'id': 1796236, 'city': 'Shanghai', 'geonames_admin1': {'name': 'Shanghai', 'id': 1796231, 'ascii_name': 'Shanghai', 'code': 'CN.23'}, 'geonames_admin2': {'name': None, 'id': None, 'ascii_name': None, 'code': None}, 'license': {'attribution': 'Data from geonames.org under a CC-BY 3.0 license', 'license': 'http://creativecommons.org/licenses/by/3.0/'}, 'nuts_level1': {'name': None, 'code': None}, 'nuts_level2': {'name': None, 'code': None}, 'nuts_level3': {'name': None, 'code': None}}, 'postcode': None, 'primary': False, 'line': None, 'country_geonames_id': 1814991}], 'links': ['http://www.nercn.com.cn/'], 'aliases': [], 'acronyms': ['NERCN'], 'status': 'active', 'wikipedia_url': '', 'labels': [{'label': '纳米技术及应用国家工程研究中心', 'iso639': 'zh'}], 'country': {'country_name': 'China', 'country_code': 'CN'}, 'external_ids': {'ISNI': {'preferred': None, 'all': ['0000 0004 1791 0043']}, 'GRID': {'preferred': 'grid.511292.c', 'all': 'grid.511292.c'}}}, {'id': 'https://ror.org/01nt95841', 'name': 'Tang Shiu Kin Hospital', 'email_address': None, 'ip_addresses': [], 'established': 1969, 'types': ['Healthcare'], 'relationships': [{'label': 'Hospital Authority', 'type': 'Parent', 'id': 'https://ror.org/05sn8t512'}], 'addresses': [{'lat': 22.275327, 'lng': 114.1754744, 'state': None, 'state_code': None, 'city': 'Hong Kong', 'geonames_city': {'id': 1819729, 'city': 'Hong Kong', 'geonames_admin1': {'name': 'Central and Western', 'id': 7533598, 'ascii_name': 'Central and Western', 'code': 'HK.HCW'}, 'geonames_admin2': {'name': None, 'id': None, 'ascii_name': None, 'code': None}, 'license': {'attribution': 'Data from geonames.org under a CC-BY 3.0 license', 'license': 'http://creativecommons.org/licenses/by/3.0/'}, 'nuts_level1': {'name': None, 'code': None}, 'nuts_level2': {'name': None, 'code': None}, 'nuts_level3': {'name': None, 'code': None}}, 'postcode': None, 'primary': False, 'line': None, 'country_geonames_id': 1814991}], 'links': ['https://www3.ha.org.hk/rtskh/'], 'aliases': [], 'acronyms': [], 'status': 'active', 'wikipedia_url': 'https://en.wikipedia.org/wiki/Tang_Shiu_Kin_Hospital', 'labels': [{'label': '鄧肇堅醫院', 'iso639': 'zh'}], 'country': {'country_name': 'China', 'country_code': 'CN'}, 'external_ids': {'ISNI': {'preferred': None, 'all': ['0000 0004 1775 0748']}, 'Wikidata': {'preferred': None, 'all': ['Q7682731']}, 'GRID': {'preferred': 'grid.511318.f', 'all': 'grid.511318.f'}}}, {'id': 'https://ror.org/03smt1w40', 'name': 'Jiangxi Applied Engineering Vocational Institute', 'email_address': None, 'ip_addresses': [], 'established': 1922, 'types': ['Education'], 'relationships': [], 'addresses': [{'lat': 27.659, 'lng': 113.887, 'state': None, 'state_code': None, 'city': 'Pingxiang', 'geonames_city': {'id': 1798654, 'city': 'Pingxiang', 'geonames_admin1': {'name': 'Jiangxi', 'id': 1806222, 'ascii_name': 'Jiangxi', 'code': 'CN.03'}, 'geonames_admin2': {'name': 'Pingxiang Shi', 'id': 1798652, 'ascii_name': 'Pingxiang Shi', 'code': 'CN.03.3603'}, 'license': {'attribution': 'Data from geonames.org under a CC-BY 3.0 license', 'license': 'http://creativecommons.org/licenses/by/3.0/'}, 'nuts_level1': {'name': None, 'code': None}, 'nuts_level2': {'name': None, 'code': None}, 'nuts_level3': {'name': None, 'code': None}}, 'postcode': None, 'primary': False, 'line': None, 'country_geonames_id': 1814991}], 'links': ['http://www.jxatei.net/'], 'aliases': [], 'acronyms': [], 'status': 'active', 'wikipedia_url': '', 'labels': [{'label': '江西应用工程职业学院', 'iso639': 'zh'}], 'country': {'country_name': 'China', 'country_code': 'CN'}, 'external_ids': {'GRID': {'preferred': 'grid.511395.a', 'all': 'grid.511395.a'}}}, {'id': 'https://ror.org/03zrvha56', 'name': 'Shenzhen Science Museum', 'email_address': None, 'ip_addresses': [], 'established': 1987, 'types': ['Archive'], 'relationships': [], 'addresses': [{'lat': 22.542449, 'lng': 114.0940263, 'state': None, 'state_code': None, 'city': 'Shenzhen', 'geonames_city': {'id': 1795565, 'city': 'Shenzhen', 'geonames_admin1': {'name': 'Guangdong', 'id': 1809935, 'ascii_name': 'Guangdong', 'code': 'CN.30'}, 'geonames_admin2': {'name': 'Shenzhen', 'id': 1795563, 'ascii_name': 'Shenzhen', 'code': 'CN.30.4403'}, 'license': {'attribution': 'Data from geonames.org under a CC-BY 3.0 license', 'license': 'http://creativecommons.org/licenses/by/3.0/'}, 'nuts_level1': {'name': None, 'code': None}, 'nuts_level2': {'name': None, 'code': None}, 'nuts_level3': {'name': None, 'code': None}}, 'postcode': None, 'primary': False, 'line': None, 'country_geonames_id': 1814991}], 'links': ['https://www.szstm.com/'], 'aliases': [], 'acronyms': [], 'status': 'active', 'wikipedia_url': '', 'labels': [{'label': '号深圳科学馆', 'iso639': 'zh'}], 'country': {'country_name': 'China', 'country_code': 'CN'}, 'external_ids': {'GRID': {'preferred': 'grid.511402.3', 'all': 'grid.511402.3'}}}, {'id': 'https://ror.org/02d5ks197', 'name': 'Chinese University of Hong Kong, Shenzhen', 'email_address': None, 'ip_addresses': [], 'established': 2014, 'types': ['Education'], 'relationships': [{'label': 'Chinese University of Hong Kong', 'type': 'Parent', 'id': 'https://ror.org/00t33hh48'}, {'label': 'Shenzhen University', 'type': 'Parent', 'id': 'https://ror.org/01vy4gh70'}], 'addresses': [{'lat': 22.687845, 'lng': 114.20993, 'state': None, 'state_code': None, 'city': 'Shenzhen', 'geonames_city': {'id': 1795565, 'city': 'Shenzhen', 'geonames_admin1': {'name': 'Guangdong', 'id': 1809935, 'ascii_name': 'Guangdong', 'code': 'CN.30'}, 'geonames_admin2': {'name': 'Shenzhen', 'id': 1795563, 'ascii_name': 'Shenzhen', 'code': 'CN.30.4403'}, 'license': {'attribution': 'Data from geonames.org under a CC-BY 3.0 license', 'license': 'http://creativecommons.org/licenses/by/3.0/'}, 'nuts_level1': {'name': None, 'code': None}, 'nuts_level2': {'name': None, 'code': None}, 'nuts_level3': {'name': None, 'code': None}}, 'postcode': None, 'primary': False, 'line': None, 'country_geonames_id': 1814991}], 'links': ['https://www.cuhk.edu.cn/'], 'aliases': [], 'acronyms': ['CUHKSZ'], 'status': 'active', 'wikipedia_url': 'https://en.wikipedia.org/wiki/Chinese_University_of_Hong_Kong,_Shenzhen', 'labels': [{'label': '香港中文大學 (深圳)', 'iso639': 'zh'}], 'country': {'country_name': 'China', 'country_code': 'CN'}, 'external_ids': {'Wikidata': {'preferred': None, 'all': ['Q15934902']}, 'GRID': {'preferred': 'grid.511521.3', 'all': 'grid.511521.3'}}}]\n"
          ]
        }
      ]
    },
    {
      "cell_type": "code",
      "source": [
        "print(rors[0])"
      ],
      "metadata": {
        "colab": {
          "base_uri": "https://localhost:8080/"
        },
        "id": "fHBULIu2Xct7",
        "outputId": "96db1c3e-5a7a-44c8-b6da-48f1209b022d"
      },
      "execution_count": null,
      "outputs": [
        {
          "output_type": "stream",
          "name": "stdout",
          "text": [
            "{'id': 'https://ror.org/049wwwm08', 'name': 'Environmental Development Centre', 'email_address': None, 'ip_addresses': [], 'established': 1996, 'types': ['Government'], 'relationships': [{'label': 'Ministry of Ecology and Environment', 'type': 'Parent', 'id': 'https://ror.org/04gwbew76'}], 'addresses': [{'lat': 39.987997, 'lng': 116.430131, 'state': None, 'state_code': None, 'city': 'Beijing', 'geonames_city': {'id': 1816670, 'city': 'Beijing', 'geonames_admin1': {'name': 'Beijing', 'id': 2038349, 'ascii_name': 'Beijing', 'code': 'CN.22'}, 'geonames_admin2': {'name': None, 'id': None, 'ascii_name': None, 'code': None}, 'license': {'attribution': 'Data from geonames.org under a CC-BY 3.0 license', 'license': 'http://creativecommons.org/licenses/by/3.0/'}, 'nuts_level1': {'name': None, 'code': None}, 'nuts_level2': {'name': None, 'code': None}, 'nuts_level3': {'name': None, 'code': None}}, 'postcode': None, 'primary': False, 'line': None, 'country_geonames_id': 1814991}], 'links': ['http://www.china-epc.cn'], 'aliases': [], 'acronyms': [], 'status': 'active', 'wikipedia_url': '', 'labels': [], 'country': {'country_name': 'China', 'country_code': 'CN'}, 'external_ids': {'GRID': {'preferred': 'grid.508332.f', 'all': 'grid.508332.f'}}}\n"
          ]
        }
      ]
    },
    {
      "cell_type": "code",
      "source": [
        "# one page only return 20 rors, so we need to paginate through the results\n",
        "print(len(rors))"
      ],
      "metadata": {
        "colab": {
          "base_uri": "https://localhost:8080/"
        },
        "id": "U20Cpx-MazrK",
        "outputId": "42ef01e1-2d73-42c1-ba24-3e00c657bb1e"
      },
      "execution_count": null,
      "outputs": [
        {
          "output_type": "stream",
          "name": "stdout",
          "text": [
            "20\n"
          ]
        }
      ]
    },
    {
      "cell_type": "code",
      "source": [
        "# the info we want to get for each ror\n",
        "\n",
        "print(rors[0]['id'])\n",
        "print(rors[0]['name'])\n",
        "print(rors[0]['links'])\n",
        "print(rors[0]['aliases'])"
      ],
      "metadata": {
        "colab": {
          "base_uri": "https://localhost:8080/"
        },
        "id": "HasuTbcoX95K",
        "outputId": "9a177275-510b-44a1-861e-83098b5f4662"
      },
      "execution_count": null,
      "outputs": [
        {
          "output_type": "stream",
          "name": "stdout",
          "text": [
            "https://ror.org/049wwwm08\n",
            "Environmental Development Centre\n",
            "['http://www.china-epc.cn']\n"
          ]
        }
      ]
    },
    {
      "cell_type": "code",
      "source": [
        "# paginate through the results, there are 4796 rors, so we need to request 4800/20 = 240 times\n",
        "\n",
        "ids = []\n",
        "names = []\n",
        "links = []\n",
        "aliases = []\n",
        "for i in range(1,241):\n",
        "  URL =  f'https://api.ror.org/organizations?filter=country.country_name:China&page={i}'\n",
        "  results = requests.get(URL)\n",
        "  rors = results.json()['items']\n",
        "  for ror in rors:\n",
        "    ids.append(ror['id'])\n",
        "    names.append(ror['name'])\n",
        "    links.append(ror['links'])\n",
        "    aliases.append(ror['aliases'])\n",
        "\n",
        "ror_list = pd.DataFrame(\n",
        "    {'id': ids,\n",
        "     'name': names,\n",
        "     'website': links,\n",
        "     'aliases':aliases\n",
        "    })"
      ],
      "metadata": {
        "id": "JWJnBIe2Yn-T"
      },
      "execution_count": null,
      "outputs": []
    },
    {
      "cell_type": "code",
      "source": [
        "ror_list.info()"
      ],
      "metadata": {
        "colab": {
          "base_uri": "https://localhost:8080/"
        },
        "id": "rvAhkc2lZta7",
        "outputId": "c811135b-fd14-4fde-88a7-7f72dde915de"
      },
      "execution_count": null,
      "outputs": [
        {
          "output_type": "stream",
          "name": "stdout",
          "text": [
            "<class 'pandas.core.frame.DataFrame'>\n",
            "RangeIndex: 4796 entries, 0 to 4795\n",
            "Data columns (total 4 columns):\n",
            " #   Column   Non-Null Count  Dtype \n",
            "---  ------   --------------  ----- \n",
            " 0   id       4796 non-null   object\n",
            " 1   name     4796 non-null   object\n",
            " 2   website  4796 non-null   object\n",
            " 3   aliases  4796 non-null   object\n",
            "dtypes: object(4)\n",
            "memory usage: 150.0+ KB\n"
          ]
        }
      ]
    },
    {
      "cell_type": "code",
      "source": [
        "ror_list.to_csv('China_rors.csv')"
      ],
      "metadata": {
        "id": "o9-EzPUpZvKL"
      },
      "execution_count": null,
      "outputs": []
    }
  ]
}