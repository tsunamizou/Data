{
  "nbformat": 4,
  "nbformat_minor": 0,
  "metadata": {
    "colab": {
      "provenance": [],
      "authorship_tag": "ABX9TyO59OXQ/VhwOhksVdRxIov/",
      "include_colab_link": true
    },
    "kernelspec": {
      "name": "python3",
      "display_name": "Python 3"
    },
    "language_info": {
      "name": "python"
    }
  },
  "cells": [
    {
      "cell_type": "markdown",
      "metadata": {
        "id": "view-in-github",
        "colab_type": "text"
      },
      "source": [
        "<a href=\"https://colab.research.google.com/github/tsunamizou/Data/blob/main/clean_aff.ipynb\" target=\"_parent\"><img src=\"https://colab.research.google.com/assets/colab-badge.svg\" alt=\"Open In Colab\"/></a>"
      ]
    },
    {
      "cell_type": "code",
      "execution_count": null,
      "metadata": {
        "id": "lraV7xpbpP-l"
      },
      "outputs": [],
      "source": [
        "import pandas as pd"
      ]
    },
    {
      "cell_type": "code",
      "source": [
        "raw = pd.read_csv( 'Rane2020.csv')"
      ],
      "metadata": {
        "id": "1LMVxs4jp2yv"
      },
      "execution_count": null,
      "outputs": []
    },
    {
      "cell_type": "code",
      "source": [
        "raw.head()"
      ],
      "metadata": {
        "id": "DMp_AQvup8r0"
      },
      "execution_count": null,
      "outputs": []
    },
    {
      "cell_type": "code",
      "source": [
        "ins = pd.read_csv('top1000ins.csv')\n",
        "ins.head()"
      ],
      "metadata": {
        "colab": {
          "base_uri": "https://localhost:8080/",
          "height": 206
        },
        "id": "Xb3DOnazqSgI",
        "outputId": "108fca01-68bc-49e5-91eb-1c4233f5a087"
      },
      "execution_count": null,
      "outputs": [
        {
          "output_type": "execute_result",
          "data": {
            "text/plain": [
              "                                    Name  ranking\n",
              "0                   University of Oxford        1\n",
              "1                     Harvard University        2\n",
              "2                University of Cambridge        3\n",
              "3                    Stanford University        4\n",
              "4  Massachusetts Institute of Technology        5"
            ],
            "text/html": [
              "\n",
              "  <div id=\"df-21aab0ba-9129-4694-876c-5808f7e6cd71\">\n",
              "    <div class=\"colab-df-container\">\n",
              "      <div>\n",
              "<style scoped>\n",
              "    .dataframe tbody tr th:only-of-type {\n",
              "        vertical-align: middle;\n",
              "    }\n",
              "\n",
              "    .dataframe tbody tr th {\n",
              "        vertical-align: top;\n",
              "    }\n",
              "\n",
              "    .dataframe thead th {\n",
              "        text-align: right;\n",
              "    }\n",
              "</style>\n",
              "<table border=\"1\" class=\"dataframe\">\n",
              "  <thead>\n",
              "    <tr style=\"text-align: right;\">\n",
              "      <th></th>\n",
              "      <th>Name</th>\n",
              "      <th>ranking</th>\n",
              "    </tr>\n",
              "  </thead>\n",
              "  <tbody>\n",
              "    <tr>\n",
              "      <th>0</th>\n",
              "      <td>University of Oxford</td>\n",
              "      <td>1</td>\n",
              "    </tr>\n",
              "    <tr>\n",
              "      <th>1</th>\n",
              "      <td>Harvard University</td>\n",
              "      <td>2</td>\n",
              "    </tr>\n",
              "    <tr>\n",
              "      <th>2</th>\n",
              "      <td>University of Cambridge</td>\n",
              "      <td>3</td>\n",
              "    </tr>\n",
              "    <tr>\n",
              "      <th>3</th>\n",
              "      <td>Stanford University</td>\n",
              "      <td>4</td>\n",
              "    </tr>\n",
              "    <tr>\n",
              "      <th>4</th>\n",
              "      <td>Massachusetts Institute of Technology</td>\n",
              "      <td>5</td>\n",
              "    </tr>\n",
              "  </tbody>\n",
              "</table>\n",
              "</div>\n",
              "      <button class=\"colab-df-convert\" onclick=\"convertToInteractive('df-21aab0ba-9129-4694-876c-5808f7e6cd71')\"\n",
              "              title=\"Convert this dataframe to an interactive table.\"\n",
              "              style=\"display:none;\">\n",
              "        \n",
              "  <svg xmlns=\"http://www.w3.org/2000/svg\" height=\"24px\"viewBox=\"0 0 24 24\"\n",
              "       width=\"24px\">\n",
              "    <path d=\"M0 0h24v24H0V0z\" fill=\"none\"/>\n",
              "    <path d=\"M18.56 5.44l.94 2.06.94-2.06 2.06-.94-2.06-.94-.94-2.06-.94 2.06-2.06.94zm-11 1L8.5 8.5l.94-2.06 2.06-.94-2.06-.94L8.5 2.5l-.94 2.06-2.06.94zm10 10l.94 2.06.94-2.06 2.06-.94-2.06-.94-.94-2.06-.94 2.06-2.06.94z\"/><path d=\"M17.41 7.96l-1.37-1.37c-.4-.4-.92-.59-1.43-.59-.52 0-1.04.2-1.43.59L10.3 9.45l-7.72 7.72c-.78.78-.78 2.05 0 2.83L4 21.41c.39.39.9.59 1.41.59.51 0 1.02-.2 1.41-.59l7.78-7.78 2.81-2.81c.8-.78.8-2.07 0-2.86zM5.41 20L4 18.59l7.72-7.72 1.47 1.35L5.41 20z\"/>\n",
              "  </svg>\n",
              "      </button>\n",
              "      \n",
              "  <style>\n",
              "    .colab-df-container {\n",
              "      display:flex;\n",
              "      flex-wrap:wrap;\n",
              "      gap: 12px;\n",
              "    }\n",
              "\n",
              "    .colab-df-convert {\n",
              "      background-color: #E8F0FE;\n",
              "      border: none;\n",
              "      border-radius: 50%;\n",
              "      cursor: pointer;\n",
              "      display: none;\n",
              "      fill: #1967D2;\n",
              "      height: 32px;\n",
              "      padding: 0 0 0 0;\n",
              "      width: 32px;\n",
              "    }\n",
              "\n",
              "    .colab-df-convert:hover {\n",
              "      background-color: #E2EBFA;\n",
              "      box-shadow: 0px 1px 2px rgba(60, 64, 67, 0.3), 0px 1px 3px 1px rgba(60, 64, 67, 0.15);\n",
              "      fill: #174EA6;\n",
              "    }\n",
              "\n",
              "    [theme=dark] .colab-df-convert {\n",
              "      background-color: #3B4455;\n",
              "      fill: #D2E3FC;\n",
              "    }\n",
              "\n",
              "    [theme=dark] .colab-df-convert:hover {\n",
              "      background-color: #434B5C;\n",
              "      box-shadow: 0px 1px 3px 1px rgba(0, 0, 0, 0.15);\n",
              "      filter: drop-shadow(0px 1px 2px rgba(0, 0, 0, 0.3));\n",
              "      fill: #FFFFFF;\n",
              "    }\n",
              "  </style>\n",
              "\n",
              "      <script>\n",
              "        const buttonEl =\n",
              "          document.querySelector('#df-21aab0ba-9129-4694-876c-5808f7e6cd71 button.colab-df-convert');\n",
              "        buttonEl.style.display =\n",
              "          google.colab.kernel.accessAllowed ? 'block' : 'none';\n",
              "\n",
              "        async function convertToInteractive(key) {\n",
              "          const element = document.querySelector('#df-21aab0ba-9129-4694-876c-5808f7e6cd71');\n",
              "          const dataTable =\n",
              "            await google.colab.kernel.invokeFunction('convertToInteractive',\n",
              "                                                     [key], {});\n",
              "          if (!dataTable) return;\n",
              "\n",
              "          const docLinkHtml = 'Like what you see? Visit the ' +\n",
              "            '<a target=\"_blank\" href=https://colab.research.google.com/notebooks/data_table.ipynb>data table notebook</a>'\n",
              "            + ' to learn more about interactive tables.';\n",
              "          element.innerHTML = '';\n",
              "          dataTable['output_type'] = 'display_data';\n",
              "          await google.colab.output.renderOutput(dataTable, element);\n",
              "          const docLink = document.createElement('div');\n",
              "          docLink.innerHTML = docLinkHtml;\n",
              "          element.appendChild(docLink);\n",
              "        }\n",
              "      </script>\n",
              "    </div>\n",
              "  </div>\n",
              "  "
            ]
          },
          "metadata": {},
          "execution_count": 4
        }
      ]
    },
    {
      "cell_type": "code",
      "source": [
        "print(ins['Name'])"
      ],
      "metadata": {
        "colab": {
          "base_uri": "https://localhost:8080/"
        },
        "id": "gnPMxnMkscd5",
        "outputId": "3367eb63-e880-4e50-a408-6e09352f2716"
      },
      "execution_count": null,
      "outputs": [
        {
          "output_type": "stream",
          "name": "stdout",
          "text": [
            "0                       University of Oxford\n",
            "1                         Harvard University\n",
            "2                    University of Cambridge\n",
            "3                        Stanford University\n",
            "4      Massachusetts Institute of Technology\n",
            "                       ...                  \n",
            "995         Autonomous University of Sinaloa\n",
            "996                  Babeş-Bolyai University\n",
            "997            Bahauddin Zakariya University\n",
            "998                        Bayero University\n",
            "999              Beijing Jiaotong University\n",
            "Name: Name, Length: 1000, dtype: object\n"
          ]
        }
      ]
    },
    {
      "cell_type": "code",
      "source": [
        "affs = raw['aff'].values.tolist()\n",
        "inss = ins['Name'].values.tolist()\n",
        "print(affs)"
      ],
      "metadata": {
        "id": "sx0oKmt3qbop"
      },
      "execution_count": null,
      "outputs": []
    },
    {
      "cell_type": "code",
      "source": [
        "print(len(ins))"
      ],
      "metadata": {
        "colab": {
          "base_uri": "https://localhost:8080/"
        },
        "id": "MVND8LyuwMGN",
        "outputId": "c82830ce-8389-447e-a639-7e153b3a4d06"
      },
      "execution_count": null,
      "outputs": [
        {
          "output_type": "stream",
          "name": "stdout",
          "text": [
            "1000\n"
          ]
        }
      ]
    },
    {
      "cell_type": "code",
      "source": [
        "print(inss[999])"
      ],
      "metadata": {
        "colab": {
          "base_uri": "https://localhost:8080/"
        },
        "id": "Akgi7a5592T8",
        "outputId": "27b6d775-6a47-4db6-b262-fb2bf9b7b00d"
      },
      "execution_count": null,
      "outputs": [
        {
          "output_type": "stream",
          "name": "stdout",
          "text": [
            "Beijing Jiaotong University\n"
          ]
        }
      ]
    },
    {
      "cell_type": "code",
      "source": [
        "ilist = []\n",
        "for aff in affs:\n",
        "  verdict = False\n",
        "  for i in range(len(inss)):\n",
        "    # the \"OF\" part is to prevent \"xx university\" being assigned to \"xx university of xx\"\n",
        "    if str(inss[i]).upper() in str(aff).upper() and str(inss[i]).upper()+\" OF\" not in str(aff).upper():\n",
        "      ilist.append(inss[i])\n",
        "      verdict = True\n",
        "      break\n",
        "  if verdict == False:\n",
        "    ilist.append(\"0\")\n",
        "\n",
        "print(ilist)\n"
      ],
      "metadata": {
        "colab": {
          "base_uri": "https://localhost:8080/"
        },
        "id": "12kTKOdKs6U0",
        "outputId": "8d7b4c01-65fb-4cab-d9bf-7f70acd0001a"
      },
      "execution_count": null,
      "outputs": [
        {
          "output_type": "stream",
          "name": "stdout",
          "text": [
            "['University of Peradeniya', '0', '0', '0', '0', '0', '0', '0', '0', '0', '0', '0', '0', '0', 'Universiti Teknologi Malaysia', '0', '0', '0', '0', '0', '0', 'South China University of Technology', '0', '0', '0', '0', '0', '0', '0', '0', '0', '0', '0', '0', '0', '0', '0', '0', '0', '0', 'Aalto University', 'Aalto University', 'Aalto University', '0', '0', '0', 'Wuhan University', '0', '0', '0', '0', '0', '0', '0', '0', 'University of Vaasa', '0', '0', '0', '0', '0', '0', '0', '0', '0', '0', '0', '0', '0', '0', 'Hong Kong Polytechnic University', '0', '0', '0', '0', '0', '0', '0', '0', '0', '0', '0', '0', '0', '0', '0', '0', '0', '0', '0', 'Universiti Teknologi Malaysia', 'Universiti Teknologi Malaysia', '0', 'Ton Duc Thang University', '0', '0', '0', '0', '0', '0', '0', 'Memorial University of Newfoundland', '0', '0', '0', '0', '0', 'Wuhan University', 'Hunan University', '0', '0', 'Tsinghua University', '0', '0', '0', '0', '0', '0', '0', '0', 'University of Vaasa', '0', '0', 'University of Science and Technology Beijing', 'University of Science and Technology Beijing', '0', '0', '0', 'Nanjing University', '0', '0', '0', '0', '0', '0', '0', 'University of Arkansas', '0', 'University of Peradeniya', '0', '0', '0', '0', '0', '0', '0', '0', '0', '0', '0', '0', '0', '0', '0', '0', '0', '0', '0', '0', 'Memorial University of Newfoundland', '0', '0', '0', '0', '0', '0', '0', '0', 'Wuhan University', '0', 'Hunan University', '0', '0', '0', '0', '0', '0', '0', '0', '0', '0', '0', '0', '0', 'University of Vaasa', 'University of Vaasa', '0', '0', '0', '0', '0', '0', '0', '0', '0', '0', '0', '0', '0', '0', '0', '0', 'Hong Kong Polytechnic University', '0', 'University of Johannesburg', '0', '0', '0']\n"
          ]
        }
      ]
    },
    {
      "cell_type": "code",
      "source": [
        "print(len(ilist))"
      ],
      "metadata": {
        "colab": {
          "base_uri": "https://localhost:8080/"
        },
        "id": "TfIcCnNsw1c9",
        "outputId": "8f28769f-0441-42f3-a1b6-dcb6f8697729"
      },
      "execution_count": null,
      "outputs": [
        {
          "output_type": "stream",
          "name": "stdout",
          "text": [
            "208\n"
          ]
        }
      ]
    },
    {
      "cell_type": "code",
      "source": [
        "raw['clean_aff'] = ilist"
      ],
      "metadata": {
        "id": "ITCnkedxtFnm"
      },
      "execution_count": null,
      "outputs": []
    },
    {
      "cell_type": "code",
      "source": [
        "raw.head(20)"
      ],
      "metadata": {
        "id": "VSrzkd0Ouf7o"
      },
      "execution_count": null,
      "outputs": []
    },
    {
      "cell_type": "code",
      "source": [
        "raw.loc[raw['clean_aff']!=\"0\"]"
      ],
      "metadata": {
        "id": "t_q_bYMOxSG_"
      },
      "execution_count": null,
      "outputs": []
    },
    {
      "cell_type": "code",
      "source": [
        "raw.to_csv('2020highrisk.csv')"
      ],
      "metadata": {
        "id": "mt8Izcpmx0kA"
      },
      "execution_count": null,
      "outputs": []
    },
    {
      "cell_type": "code",
      "source": [],
      "metadata": {
        "id": "wN6uRNIOzCpi"
      },
      "execution_count": null,
      "outputs": []
    }
  ]
}