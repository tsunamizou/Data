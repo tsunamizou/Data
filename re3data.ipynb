{
  "nbformat": 4,
  "nbformat_minor": 0,
  "metadata": {
    "colab": {
      "provenance": [],
      "authorship_tag": "ABX9TyM7LoYzgihiIDhmhdiJzP/d",
      "include_colab_link": true
    },
    "kernelspec": {
      "name": "python3",
      "display_name": "Python 3"
    },
    "language_info": {
      "name": "python"
    }
  },
  "cells": [
    {
      "cell_type": "markdown",
      "metadata": {
        "id": "view-in-github",
        "colab_type": "text"
      },
      "source": [
        "<a href=\"https://colab.research.google.com/github/tsunamizou/Data/blob/main/re3data.ipynb\" target=\"_parent\"><img src=\"https://colab.research.google.com/assets/colab-badge.svg\" alt=\"Open In Colab\"/></a>"
      ]
    },
    {
      "cell_type": "code",
      "execution_count": null,
      "metadata": {
        "id": "LhwXJZakHP6F"
      },
      "outputs": [],
      "source": [
        "# using api and xml parsing to retrieve data from re3data.org"
      ]
    },
    {
      "cell_type": "code",
      "source": [
        "import requests"
      ],
      "metadata": {
        "id": "EKjj8XKLHY1T"
      },
      "execution_count": 15,
      "outputs": []
    },
    {
      "cell_type": "code",
      "source": [
        "\n",
        "# this url returns an xml page based on the filters in the query\n",
        "URL = 'https://www.re3data.org/api/beta/repositories?query=&countries%5B0%5D=CHN&dataUploads%5B0%5D=restricted'\n",
        "list = requests.get(URL)\n"
      ],
      "metadata": {
        "id": "4LEFA0CBHcRY"
      },
      "execution_count": 16,
      "outputs": []
    },
    {
      "cell_type": "code",
      "source": [
        "from xml.etree import ElementTree"
      ],
      "metadata": {
        "id": "VMYqnMuCINtw"
      },
      "execution_count": 17,
      "outputs": []
    },
    {
      "cell_type": "code",
      "source": [
        "tree = ElementTree.fromstring(list.content)"
      ],
      "metadata": {
        "id": "AhFZKlM4IRgQ"
      },
      "execution_count": 6,
      "outputs": []
    },
    {
      "cell_type": "code",
      "source": [
        "urls = []\n",
        "for link in tree.iter('link'):\n",
        "  urls.append(link.attrib['href'])"
      ],
      "metadata": {
        "id": "e35O03-UIYki"
      },
      "execution_count": 18,
      "outputs": []
    },
    {
      "cell_type": "code",
      "source": [
        "url = 'https://www.re3data.org/api/beta/repository/r3d100012218'\n",
        "response = requests.get(url)\n",
        "repository = ElementTree.fromstring(response.content)\n",
        "\n"
      ],
      "metadata": {
        "id": "00D4fgvyJS9e"
      },
      "execution_count": 35,
      "outputs": []
    },
    {
      "cell_type": "code",
      "source": [
        "from bs4 import BeautifulSoup as bs"
      ],
      "metadata": {
        "id": "bkB50XCQi7o4"
      },
      "execution_count": 40,
      "outputs": []
    },
    {
      "cell_type": "code",
      "source": [
        "r_names, r_urls, r_subjects, r_descriptions = [],[],[],[]\n",
        "for url in urls:\n",
        "  response = requests.get(url)\n",
        "  repository = ElementTree.fromstring(response.content)\n",
        "  soup =bs(response.text,'lxml')\n",
        "  r_link = soup.find('r3d:repositoryurl').text\n",
        "  r_urls.append(r_link)\n",
        "  r_name = soup.find('r3d:repositoryname').text\n",
        "  r_names.append(r_name)\n",
        "  r_subject = [subject.text for subject in soup.find_all(\"r3d:subject\")]\n",
        "  r_subjects.append(r_subject)\n",
        "  r_description = soup.find('r3d:description').text\n",
        "  r_descriptions.append(r_description)\n",
        "\n",
        "print(len(r_names))\n",
        "print(len(r_urls))\n",
        "print(len(r_subjects))\n",
        "print(len(r_descriptions))"
      ],
      "metadata": {
        "colab": {
          "base_uri": "https://localhost:8080/"
        },
        "id": "vkVR1peKk1mJ",
        "outputId": "f972f7fc-46e9-4446-87b4-0a691a715728"
      },
      "execution_count": 54,
      "outputs": [
        {
          "output_type": "stream",
          "name": "stdout",
          "text": [
            "54\n",
            "54\n",
            "54\n",
            "54\n"
          ]
        }
      ]
    },
    {
      "cell_type": "code",
      "source": [
        "import csv\n",
        "with open('some.csv', 'w') as f:\n",
        "    writer = csv.writer(f)\n",
        "    writer.writerows(zip(r_names, r_urls, r_subjects, r_descriptions))"
      ],
      "metadata": {
        "id": "idGefHuzoF5N"
      },
      "execution_count": 55,
      "outputs": []
    },
    {
      "cell_type": "code",
      "source": [],
      "metadata": {
        "id": "JKztsbjElpdC"
      },
      "execution_count": null,
      "outputs": []
    }
  ]
}