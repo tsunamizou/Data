{
  "nbformat": 4,
  "nbformat_minor": 0,
  "metadata": {
    "colab": {
      "name": "ChineseName.ipynb",
      "provenance": [],
      "authorship_tag": "ABX9TyOe0jL+JTmKNqjWTPbQ7Pq3",
      "include_colab_link": true
    },
    "kernelspec": {
      "name": "python3",
      "display_name": "Python 3"
    },
    "language_info": {
      "name": "python"
    }
  },
  "cells": [
    {
      "cell_type": "markdown",
      "metadata": {
        "id": "view-in-github",
        "colab_type": "text"
      },
      "source": [
        "<a href=\"https://colab.research.google.com/github/tsunamizou/Data/blob/main/ChineseName.ipynb\" target=\"_parent\"><img src=\"https://colab.research.google.com/assets/colab-badge.svg\" alt=\"Open In Colab\"/></a>"
      ]
    },
    {
      "cell_type": "code",
      "execution_count": null,
      "metadata": {
        "id": "KmT4edB4lKTg"
      },
      "outputs": [],
      "source": [
        "# this notebook can be used to convert a list of Chinese names into pinyin, and generate two columns to separate the first name and last name\n",
        "\n",
        "!pip install xpinyin\n",
        "from xpinyin import Pinyin"
      ]
    },
    {
      "cell_type": "code",
      "source": [
        "import pandas as pd\n",
        "import numpy as np\n",
        "data = pd.read_csv('KOL.csv')"
      ],
      "metadata": {
        "id": "nnoNX2UKl5Iw"
      },
      "execution_count": 8,
      "outputs": []
    },
    {
      "cell_type": "code",
      "source": [
        "fuxing = ['索南','万俟','司马','上官','欧阳','夏侯','诸葛','闻人','东方','赫连','皇甫','尉迟','公羊','澹台','公冶','宗政','濮阳',\n",
        "'淳于','单于','太叔','申屠','公孙','仲孙','轩辕','令狐','钟离','宇文','长孙','慕容','鲜于','闾丘','司徒','司空','亓官','司寇','子车',\n",
        "'颛孙','端木','巫马','公西','漆雕','乐正','壤驷','公良','拓跋','夹谷','宰父','谷梁','段干','百里','东郭','南门','呼延','羊舌','微生','梁丘','左丘','东门','西门','南宫','第五']\n",
        "\n",
        "test = Pinyin()\n",
        "\n",
        "# all the Chinese names have a length smaller or equal to 4, but there are some 4-character Japanese names which need to be corrected manually\n",
        "\n",
        "data_Chinese_names = data.loc[data.length<=4]\n",
        "data['first_name'] = ''\n",
        "data['last_name'] = ''\n",
        "data['first_pinyin'] = ''\n",
        "data['last_pinyin'] = ''\n",
        "\n",
        "for name in data_Chinese_names.Name:\n",
        "  if name[:2] in fuxing:\n",
        "    data['last_name'].loc[data.Name==name] = name[:2]\n",
        "    data['last_pinyin'].loc[data.Name==name] = test.get_pinyin(name[:2])\n",
        "    data['first_name'].loc[data.Name==name] = name[2:]\n",
        "    data['first_pinyin'].loc[data.Name==name] = test.get_pinyin(name[2:])\n",
        "  else:\n",
        "    data['last_name'].loc[data.Name==name] = name[:1]\n",
        "    data['last_pinyin'].loc[data.Name==name] = test.get_pinyin(name[:1])\n",
        "    data['first_name'].loc[data.Name==name] = name[1:]\n",
        "    data['first_pinyin'].loc[data.Name==name] = test.get_pinyin(name[1:])\n"
      ],
      "metadata": {
        "id": "vfkVhVC1mXsR"
      },
      "execution_count": null,
      "outputs": []
    },
    {
      "cell_type": "code",
      "source": [
        "data.first_pinyin = data.first_pinyin.str.replace('-','')\n",
        "data.last_pinyin = data.last_pinyin.str.replace('-','')\n",
        "\n",
        "data.first_pinyin = data.first_pinyin.str.title()\n",
        "data.last_pinyin = data.last_pinyin.str.title()\n",
        "\n",
        "\n",
        "# the get_pinyin function only returns lowercase strings with dashes separating each character\n",
        "\n",
        "data.head(30)"
      ],
      "metadata": {
        "id": "FZiUevYPleWp"
      },
      "execution_count": null,
      "outputs": []
    },
    {
      "cell_type": "code",
      "source": [
        "data.to_csv('kol_pinyin.csv', encoding='utf_8_sig')\n",
        "\n",
        "# adding the encoding to make sure the Chinese characters look correct"
      ],
      "metadata": {
        "id": "JMr0h26A0y0s"
      },
      "execution_count": 40,
      "outputs": []
    }
  ]
}
