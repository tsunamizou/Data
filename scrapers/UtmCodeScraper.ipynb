{
  "nbformat": 4,
  "nbformat_minor": 0,
  "metadata": {
    "colab": {
      "name": "UtmCodeScraper.ipynb",
      "provenance": [],
      "authorship_tag": "ABX9TyOxs2BcXlqa13gX5/HtBQHA",
      "include_colab_link": true
    },
    "kernelspec": {
      "name": "python3",
      "display_name": "Python 3"
    },
    "language_info": {
      "name": "python"
    }
  },
  "cells": [
    {
      "cell_type": "markdown",
      "metadata": {
        "id": "view-in-github",
        "colab_type": "text"
      },
      "source": [
        "<a href=\"https://colab.research.google.com/github/tsunamizou/Data/blob/main/UtmCodeScraper.ipynb\" target=\"_parent\"><img src=\"https://colab.research.google.com/assets/colab-badge.svg\" alt=\"Open In Colab\"/></a>"
      ]
    },
    {
      "cell_type": "code",
      "execution_count": 11,
      "metadata": {
        "id": "Q4t_3jW57QZk"
      },
      "outputs": [],
      "source": [
        "# provide a list of urls to the articles, return the utm code in the url link within each article\n",
        "\n",
        "from bs4 import BeautifulSoup\n",
        "import requests\n",
        "from pandas import *"
      ]
    },
    {
      "cell_type": "code",
      "source": [
        "data = read_csv(\"file.csv\")\n",
        "data.dropna(inplace=True)\n",
        "links = data['Link'].to_list()\n",
        "print(links)"
      ],
      "metadata": {
        "id": "HtZ-bRK5v7cZ"
      },
      "execution_count": null,
      "outputs": []
    },
    {
      "cell_type": "code",
      "source": [
        "utm_codes = []\n",
        "for link in links:\n",
        "  page = requests.get(link)\n",
        "  soup = BeautifulSoup (page.content, \"html.parser\")\n",
        "  utm = soup.select_one(\"a[href*=utm_campaign]\")\n",
        "  # The CSS attribute selector matches elements based on the presence or value of a given attribute.\n",
        "  try:\n",
        "    utm_link = utm['href']\n",
        "    utm_code = utm_link.split('utm_campaign=',1)[1]\n",
        "  except TypeError:\n",
        "    utm_code=''\n",
        
        "  # to get the text immediately after the specified substring\n",
        "  utm_codes.append(utm_code)\n",
        "\n",
        "print(utm_codes)"
      ],
      "metadata": {
        "id": "HwsHI0PnWtXJ"
      },
      "execution_count": null,
      "outputs": []
    },
    {
      "cell_type": "code",
      "source": [
        "data['utm_code'] = utm_codes\n",
        "# convert the list to a column in the dataframe\n",
        "data.head()\n",
        "data.to_csv('file_utm.csv')"
      ],
      "metadata": {
        "id": "KKoTvQMJzJg6"
      },
      "execution_count": 23,
      "outputs": []
    }
  ]
}
